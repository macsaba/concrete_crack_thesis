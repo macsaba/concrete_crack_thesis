{
 "cells": [
  {
   "cell_type": "code",
   "execution_count": null,
   "id": "3cf2abca",
   "metadata": {},
   "outputs": [],
   "source": [
    "import scipy.io \n",
    "import numpy as np \n",
    "import cv2\n",
    "path = 'D:\\\\01_AdatMat_Elte\\\\03_THESIS\\\\CrackForest-dataset\\\\groundTruth\\\\'\n",
    "path_out = 'D:\\\\01_AdatMat_Elte\\\\03_THESIS\\\\CrackForest-dataset\\\\groundTruthPNG\\\\'\n"
   ]
  },
  {
   "cell_type": "code",
   "execution_count": 8,
   "id": "c51faae0",
   "metadata": {},
   "outputs": [],
   "source": [
    "for i in range(1, 118):\n",
    "    formatted = f\"{i:03}\"\n",
    "    mat = scipy.io.loadmat(path + formatted + '.mat')\n",
    "    np_seg = mat['groundTruth'][0][0][0]\n",
    "    (y, x) = np.where(np_seg == 2)\n",
    "    np_seg[y, x] = 255\n",
    "    (y, x) = np.where(np_seg == 1)\n",
    "    np_seg[y, x] = 0\n",
    "    cv2.imwrite(path_out + formatted + '.png', np_seg)\n"
   ]
  }
 ],
 "metadata": {
  "kernelspec": {
   "display_name": "venv",
   "language": "python",
   "name": "python3"
  },
  "language_info": {
   "codemirror_mode": {
    "name": "ipython",
    "version": 3
   },
   "file_extension": ".py",
   "mimetype": "text/x-python",
   "name": "python",
   "nbconvert_exporter": "python",
   "pygments_lexer": "ipython3",
   "version": "3.12.6"
  }
 },
 "nbformat": 4,
 "nbformat_minor": 5
}
