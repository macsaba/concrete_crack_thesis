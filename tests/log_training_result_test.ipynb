{
 "cells": [
  {
   "cell_type": "code",
   "execution_count": 3,
   "id": "79fea888",
   "metadata": {},
   "outputs": [],
   "source": [
    "from utils import log_training_result\n",
    "import pandas as pd"
   ]
  },
  {
   "cell_type": "code",
   "execution_count": 4,
   "id": "1d6b2c8a",
   "metadata": {},
   "outputs": [
    {
     "name": "stderr",
     "output_type": "stream",
     "text": [
      "d:\\01_adatmat_elte\\03_thesis\\concrete_crack_thesis\\src\\utils.py:30: FutureWarning: The behavior of DataFrame concatenation with empty or all-NA entries is deprecated. In a future version, this will no longer exclude empty or all-NA columns when determining the result dtypes. To retain the old behavior, exclude the relevant entries before the concat operation.\n",
      "  df = pd.concat([df, pd.DataFrame([new_row])], ignore_index=True)\n"
     ]
    }
   ],
   "source": [
    "log_training_result('../saved_models/training_log.csv', {\n",
    "    \"timestamp\": pd.Timestamp.now(),\n",
    "    \"weights_file\": \"unet_e30_lr0.001.pth\",\n",
    "    \"epochs\": 30,\n",
    "    \"learning_rate\": 0.001,\n",
    "    \"batch_size\": 8,\n",
    "    \"train_dice\": 0.78,\n",
    "    \"val_dice\": 0.63,\n",
    "    \"comment\": \"Baseline run\",\n",
    "    \"augmentation\": \"flip+rotate\"\n",
    "})"
   ]
  },
  {
   "cell_type": "code",
   "execution_count": null,
   "id": "86a7785e",
   "metadata": {},
   "outputs": [
    {
     "name": "stderr",
     "output_type": "stream",
     "text": [
      "d:\\01_adatmat_elte\\03_thesis\\concrete_crack_thesis\\src\\utils.py:30: FutureWarning: The behavior of DataFrame concatenation with empty or all-NA entries is deprecated. In a future version, this will no longer exclude empty or all-NA columns when determining the result dtypes. To retain the old behavior, exclude the relevant entries before the concat operation.\n",
      "  df = pd.concat([df, pd.DataFrame([new_row])], ignore_index=True)\n"
     ]
    }
   ],
   "source": [
    "log_training_result('../saved_models/training_log.csv', {\n",
    "    \"timestamp\": pd.Timestamp.now(),\n",
    "    \"weights_file\": \"unet_e30_lr0.002.pth\",\n",
    "})"
   ]
  },
  {
   "cell_type": "code",
   "execution_count": 7,
   "id": "93372fac",
   "metadata": {},
   "outputs": [],
   "source": [
    "log_training_result('../saved_models/training_log.csv', {\n",
    "    \"timestamp\": pd.Timestamp.now(),\n",
    "    \"weights_file\": \"unet_e30_lr0.001.pth\",\n",
    "    \"epochs\": 30,\n",
    "    \"learning_rate\": 0.001,\n",
    "    \"batch_size\": 8,\n",
    "    \"train_dice\": 0.78,\n",
    "    \"val_dice\": 0.63,\n",
    "    \"comment\": \"Baseline run\",\n",
    "    \"augmentation\": \"flip+rotate\",\n",
    "    \"comment2\": \"Comment2\",\n",
    "    \"comment3\": \"not so creative\"\n",
    "})"
   ]
  }
 ],
 "metadata": {
  "kernelspec": {
   "display_name": "venv",
   "language": "python",
   "name": "python3"
  },
  "language_info": {
   "codemirror_mode": {
    "name": "ipython",
    "version": 3
   },
   "file_extension": ".py",
   "mimetype": "text/x-python",
   "name": "python",
   "nbconvert_exporter": "python",
   "pygments_lexer": "ipython3",
   "version": "3.12.6"
  }
 },
 "nbformat": 4,
 "nbformat_minor": 5
}
